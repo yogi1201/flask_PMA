{
  "cells": [
    {
      "cell_type": "markdown",
      "metadata": {
        "id": "view-in-github",
        "colab_type": "text"
      },
      "source": [
        "<a href=\"https://colab.research.google.com/github/yogi1201/flask_PMA/blob/main/App.ipynb\" target=\"_parent\"><img src=\"https://colab.research.google.com/assets/colab-badge.svg\" alt=\"Open In Colab\"/></a>"
      ]
    },
    {
      "cell_type": "code",
      "execution_count": 1,
      "metadata": {
        "colab": {
          "base_uri": "https://localhost:8080/"
        },
        "id": "98dUWFTkA-1R",
        "outputId": "f7ea232f-9792-48da-e744-4f66eb0f85ac"
      },
      "outputs": [
        {
          "output_type": "stream",
          "name": "stdout",
          "text": [
            "Collecting flask-ngrok\n",
            "  Downloading flask_ngrok-0.0.25-py3-none-any.whl (3.1 kB)\n",
            "Requirement already satisfied: Flask>=0.8 in /usr/local/lib/python3.7/dist-packages (from flask-ngrok) (1.1.4)\n",
            "Requirement already satisfied: requests in /usr/local/lib/python3.7/dist-packages (from flask-ngrok) (2.23.0)\n",
            "Requirement already satisfied: Werkzeug<2.0,>=0.15 in /usr/local/lib/python3.7/dist-packages (from Flask>=0.8->flask-ngrok) (1.0.1)\n",
            "Requirement already satisfied: Jinja2<3.0,>=2.10.1 in /usr/local/lib/python3.7/dist-packages (from Flask>=0.8->flask-ngrok) (2.11.3)\n",
            "Requirement already satisfied: click<8.0,>=5.1 in /usr/local/lib/python3.7/dist-packages (from Flask>=0.8->flask-ngrok) (7.1.2)\n",
            "Requirement already satisfied: itsdangerous<2.0,>=0.24 in /usr/local/lib/python3.7/dist-packages (from Flask>=0.8->flask-ngrok) (1.1.0)\n",
            "Requirement already satisfied: MarkupSafe>=0.23 in /usr/local/lib/python3.7/dist-packages (from Jinja2<3.0,>=2.10.1->Flask>=0.8->flask-ngrok) (2.0.1)\n",
            "Requirement already satisfied: urllib3!=1.25.0,!=1.25.1,<1.26,>=1.21.1 in /usr/local/lib/python3.7/dist-packages (from requests->flask-ngrok) (1.24.3)\n",
            "Requirement already satisfied: idna<3,>=2.5 in /usr/local/lib/python3.7/dist-packages (from requests->flask-ngrok) (2.10)\n",
            "Requirement already satisfied: chardet<4,>=3.0.2 in /usr/local/lib/python3.7/dist-packages (from requests->flask-ngrok) (3.0.4)\n",
            "Requirement already satisfied: certifi>=2017.4.17 in /usr/local/lib/python3.7/dist-packages (from requests->flask-ngrok) (2021.10.8)\n",
            "Installing collected packages: flask-ngrok\n",
            "Successfully installed flask-ngrok-0.0.25\n",
            "Collecting pyngrok\n",
            "  Downloading pyngrok-5.1.0.tar.gz (745 kB)\n",
            "\u001b[K     |████████████████████████████████| 745 kB 6.8 MB/s \n",
            "\u001b[?25hRequirement already satisfied: PyYAML in /usr/local/lib/python3.7/dist-packages (from pyngrok) (3.13)\n",
            "Building wheels for collected packages: pyngrok\n",
            "  Building wheel for pyngrok (setup.py) ... \u001b[?25l\u001b[?25hdone\n",
            "  Created wheel for pyngrok: filename=pyngrok-5.1.0-py3-none-any.whl size=19007 sha256=f8ac02b9126275c376ca338478c09ef97560e2d603014f14b42772023cf3ac47\n",
            "  Stored in directory: /root/.cache/pip/wheels/bf/e6/af/ccf6598ecefecd44104069371795cb9b3afbcd16987f6ccfb3\n",
            "Successfully built pyngrok\n",
            "Installing collected packages: pyngrok\n",
            "Successfully installed pyngrok-5.1.0\n",
            "Collecting flask-wtf\n",
            "  Downloading Flask_WTF-1.0.1-py3-none-any.whl (12 kB)\n",
            "Requirement already satisfied: Flask in /usr/local/lib/python3.7/dist-packages (from flask-wtf) (1.1.4)\n",
            "Requirement already satisfied: itsdangerous in /usr/local/lib/python3.7/dist-packages (from flask-wtf) (1.1.0)\n",
            "Collecting WTForms\n",
            "  Downloading WTForms-3.0.1-py3-none-any.whl (136 kB)\n",
            "\u001b[K     |████████████████████████████████| 136 kB 8.5 MB/s \n",
            "\u001b[?25hRequirement already satisfied: Werkzeug<2.0,>=0.15 in /usr/local/lib/python3.7/dist-packages (from Flask->flask-wtf) (1.0.1)\n",
            "Requirement already satisfied: Jinja2<3.0,>=2.10.1 in /usr/local/lib/python3.7/dist-packages (from Flask->flask-wtf) (2.11.3)\n",
            "Requirement already satisfied: click<8.0,>=5.1 in /usr/local/lib/python3.7/dist-packages (from Flask->flask-wtf) (7.1.2)\n",
            "Requirement already satisfied: MarkupSafe>=0.23 in /usr/local/lib/python3.7/dist-packages (from Jinja2<3.0,>=2.10.1->Flask->flask-wtf) (2.0.1)\n",
            "Installing collected packages: WTForms, flask-wtf\n",
            "Successfully installed WTForms-3.0.1 flask-wtf-1.0.1\n",
            "Authtoken saved to configuration file: /root/.ngrok2/ngrok.yml\n"
          ]
        }
      ],
      "source": [
        "!pip install flask-ngrok\n",
        "!pip install pyngrok\n",
        "!pip install flask-wtf\n",
        "\n",
        "\n",
        "!ngrok authtoken \"26BwFvizLF6wLWEIZ3CKGzIbHFk_48HBBen3bSEQRwjWTYxJs\""
      ]
    },
    {
      "cell_type": "code",
      "execution_count": 2,
      "metadata": {
        "colab": {
          "base_uri": "https://localhost:8080/"
        },
        "id": "g4E5_rkhBfF2",
        "outputId": "708d0f8d-712c-485a-bbb4-e564878bdea0"
      },
      "outputs": [
        {
          "output_type": "stream",
          "name": "stdout",
          "text": [
            "Collecting flask-bootstrap\n",
            "  Downloading Flask-Bootstrap-3.3.7.1.tar.gz (456 kB)\n",
            "\u001b[?25l\r\u001b[K     |▊                               | 10 kB 19.5 MB/s eta 0:00:01\r\u001b[K     |█▍                              | 20 kB 25.8 MB/s eta 0:00:01\r\u001b[K     |██▏                             | 30 kB 16.7 MB/s eta 0:00:01\r\u001b[K     |██▉                             | 40 kB 11.8 MB/s eta 0:00:01\r\u001b[K     |███▋                            | 51 kB 5.4 MB/s eta 0:00:01\r\u001b[K     |████▎                           | 61 kB 6.4 MB/s eta 0:00:01\r\u001b[K     |█████                           | 71 kB 7.3 MB/s eta 0:00:01\r\u001b[K     |█████▊                          | 81 kB 6.1 MB/s eta 0:00:01\r\u001b[K     |██████▌                         | 92 kB 6.7 MB/s eta 0:00:01\r\u001b[K     |███████▏                        | 102 kB 7.4 MB/s eta 0:00:01\r\u001b[K     |████████                        | 112 kB 7.4 MB/s eta 0:00:01\r\u001b[K     |████████▋                       | 122 kB 7.4 MB/s eta 0:00:01\r\u001b[K     |█████████▍                      | 133 kB 7.4 MB/s eta 0:00:01\r\u001b[K     |██████████                      | 143 kB 7.4 MB/s eta 0:00:01\r\u001b[K     |██████████▊                     | 153 kB 7.4 MB/s eta 0:00:01\r\u001b[K     |███████████▌                    | 163 kB 7.4 MB/s eta 0:00:01\r\u001b[K     |████████████▏                   | 174 kB 7.4 MB/s eta 0:00:01\r\u001b[K     |█████████████                   | 184 kB 7.4 MB/s eta 0:00:01\r\u001b[K     |█████████████▋                  | 194 kB 7.4 MB/s eta 0:00:01\r\u001b[K     |██████████████▍                 | 204 kB 7.4 MB/s eta 0:00:01\r\u001b[K     |███████████████                 | 215 kB 7.4 MB/s eta 0:00:01\r\u001b[K     |███████████████▉                | 225 kB 7.4 MB/s eta 0:00:01\r\u001b[K     |████████████████▌               | 235 kB 7.4 MB/s eta 0:00:01\r\u001b[K     |█████████████████▎              | 245 kB 7.4 MB/s eta 0:00:01\r\u001b[K     |██████████████████              | 256 kB 7.4 MB/s eta 0:00:01\r\u001b[K     |██████████████████▊             | 266 kB 7.4 MB/s eta 0:00:01\r\u001b[K     |███████████████████▍            | 276 kB 7.4 MB/s eta 0:00:01\r\u001b[K     |████████████████████            | 286 kB 7.4 MB/s eta 0:00:01\r\u001b[K     |████████████████████▉           | 296 kB 7.4 MB/s eta 0:00:01\r\u001b[K     |█████████████████████▌          | 307 kB 7.4 MB/s eta 0:00:01\r\u001b[K     |██████████████████████▎         | 317 kB 7.4 MB/s eta 0:00:01\r\u001b[K     |███████████████████████         | 327 kB 7.4 MB/s eta 0:00:01\r\u001b[K     |███████████████████████▊        | 337 kB 7.4 MB/s eta 0:00:01\r\u001b[K     |████████████████████████▍       | 348 kB 7.4 MB/s eta 0:00:01\r\u001b[K     |█████████████████████████▏      | 358 kB 7.4 MB/s eta 0:00:01\r\u001b[K     |█████████████████████████▉      | 368 kB 7.4 MB/s eta 0:00:01\r\u001b[K     |██████████████████████████▋     | 378 kB 7.4 MB/s eta 0:00:01\r\u001b[K     |███████████████████████████▎    | 389 kB 7.4 MB/s eta 0:00:01\r\u001b[K     |████████████████████████████    | 399 kB 7.4 MB/s eta 0:00:01\r\u001b[K     |████████████████████████████▊   | 409 kB 7.4 MB/s eta 0:00:01\r\u001b[K     |█████████████████████████████▍  | 419 kB 7.4 MB/s eta 0:00:01\r\u001b[K     |██████████████████████████████▏ | 430 kB 7.4 MB/s eta 0:00:01\r\u001b[K     |██████████████████████████████▉ | 440 kB 7.4 MB/s eta 0:00:01\r\u001b[K     |███████████████████████████████▋| 450 kB 7.4 MB/s eta 0:00:01\r\u001b[K     |████████████████████████████████| 456 kB 7.4 MB/s \n",
            "\u001b[?25hRequirement already satisfied: Flask>=0.8 in /usr/local/lib/python3.7/dist-packages (from flask-bootstrap) (1.1.4)\n",
            "Collecting dominate\n",
            "  Downloading dominate-2.6.0-py2.py3-none-any.whl (29 kB)\n",
            "Collecting visitor\n",
            "  Downloading visitor-0.1.3.tar.gz (3.3 kB)\n",
            "Requirement already satisfied: click<8.0,>=5.1 in /usr/local/lib/python3.7/dist-packages (from Flask>=0.8->flask-bootstrap) (7.1.2)\n",
            "Requirement already satisfied: Werkzeug<2.0,>=0.15 in /usr/local/lib/python3.7/dist-packages (from Flask>=0.8->flask-bootstrap) (1.0.1)\n",
            "Requirement already satisfied: Jinja2<3.0,>=2.10.1 in /usr/local/lib/python3.7/dist-packages (from Flask>=0.8->flask-bootstrap) (2.11.3)\n",
            "Requirement already satisfied: itsdangerous<2.0,>=0.24 in /usr/local/lib/python3.7/dist-packages (from Flask>=0.8->flask-bootstrap) (1.1.0)\n",
            "Requirement already satisfied: MarkupSafe>=0.23 in /usr/local/lib/python3.7/dist-packages (from Jinja2<3.0,>=2.10.1->Flask>=0.8->flask-bootstrap) (2.0.1)\n",
            "Building wheels for collected packages: flask-bootstrap, visitor\n",
            "  Building wheel for flask-bootstrap (setup.py) ... \u001b[?25l\u001b[?25hdone\n",
            "  Created wheel for flask-bootstrap: filename=Flask_Bootstrap-3.3.7.1-py3-none-any.whl size=460123 sha256=c07c857514c2c0b70dd82acca26b1f2a78714f09b99bf08133699a1814b4e09d\n",
            "  Stored in directory: /root/.cache/pip/wheels/67/a2/d6/50d039c9b59b4caca6d7b53839c8100354a52ab7553d2456eb\n",
            "  Building wheel for visitor (setup.py) ... \u001b[?25l\u001b[?25hdone\n",
            "  Created wheel for visitor: filename=visitor-0.1.3-py3-none-any.whl size=3946 sha256=894331cc924308eb01cb0fa442fc09952f38cfd8fa34833e950690c356c1cab0\n",
            "  Stored in directory: /root/.cache/pip/wheels/64/34/11/053f47218984c9a31a00f911ed98dda036b867481dcc527a12\n",
            "Successfully built flask-bootstrap visitor\n",
            "Installing collected packages: visitor, dominate, flask-bootstrap\n",
            "Successfully installed dominate-2.6.0 flask-bootstrap-3.3.7.1 visitor-0.1.3\n"
          ]
        }
      ],
      "source": [
        "!pip install flask-bootstrap"
      ]
    },
    {
      "cell_type": "code",
      "execution_count": 3,
      "metadata": {
        "colab": {
          "base_uri": "https://localhost:8080/"
        },
        "id": "lFbiNtAgFtVB",
        "outputId": "5b9e22aa-4bce-433b-8094-85c8648edbd7"
      },
      "outputs": [
        {
          "output_type": "stream",
          "name": "stdout",
          "text": [
            "Cloning into 'flask_PMA'...\n",
            "remote: Enumerating objects: 486, done.\u001b[K\n",
            "remote: Counting objects: 100% (486/486), done.\u001b[K\n",
            "remote: Compressing objects: 100% (401/401), done.\u001b[K\n",
            "remote: Total 486 (delta 81), reused 472 (delta 67), pack-reused 0\u001b[K\n",
            "Receiving objects: 100% (486/486), 1.42 MiB | 4.45 MiB/s, done.\n",
            "Resolving deltas: 100% (81/81), done.\n"
          ]
        }
      ],
      "source": [
        "!git clone https://github.com/yogi1201/flask_PMA"
      ]
    },
    {
      "cell_type": "code",
      "execution_count": 4,
      "metadata": {
        "id": "Z5Fs3MlkF2Ki"
      },
      "outputs": [],
      "source": [
        "import os\n",
        "os.chdir(\"/content/flask_PMA\")"
      ]
    },
    {
      "cell_type": "code",
      "execution_count": 5,
      "metadata": {
        "id": "ugGkBUctBpAr"
      },
      "outputs": [],
      "source": [
        "from flask import Flask, render_template\n",
        "from flask_bootstrap import Bootstrap\n",
        "from flask_ngrok import run_with_ngrok"
      ]
    },
    {
      "cell_type": "code",
      "execution_count": 6,
      "metadata": {
        "colab": {
          "base_uri": "https://localhost:8080/"
        },
        "id": "hpEX4wAfGDYR",
        "outputId": "ef0369e8-7728-4538-f848-a928e485cce9"
      },
      "outputs": [
        {
          "output_type": "stream",
          "name": "stdout",
          "text": [
            " * Serving Flask app \"__main__\" (lazy loading)\n",
            " * Environment: production\n",
            "\u001b[31m   WARNING: This is a development server. Do not use it in a production deployment.\u001b[0m\n",
            "\u001b[2m   Use a production WSGI server instead.\u001b[0m\n",
            " * Debug mode: off\n"
          ]
        },
        {
          "output_type": "stream",
          "name": "stderr",
          "text": [
            " * Running on http://127.0.0.1:5000/ (Press CTRL+C to quit)\n"
          ]
        },
        {
          "output_type": "stream",
          "name": "stdout",
          "text": [
            " * Running on http://f925-34-125-59-113.ngrok.io\n",
            " * Traffic stats available on http://127.0.0.1:4040\n"
          ]
        },
        {
          "output_type": "stream",
          "name": "stderr",
          "text": [
            "127.0.0.1 - - [05/Apr/2022 16:26:32] \"\u001b[37mGET / HTTP/1.1\u001b[0m\" 200 -\n",
            "127.0.0.1 - - [05/Apr/2022 16:26:33] \"\u001b[37mGET /static/bower_components/bootstrap/dist/css/bootstrap.min.css HTTP/1.1\u001b[0m\" 200 -\n",
            "127.0.0.1 - - [05/Apr/2022 16:26:33] \"\u001b[37mGET /static/bower_components/metisMenu/dist/metisMenu.min.css HTTP/1.1\u001b[0m\" 200 -\n",
            "127.0.0.1 - - [05/Apr/2022 16:26:33] \"\u001b[37mGET /static/bower_components/jquery/dist/jquery.min.js HTTP/1.1\u001b[0m\" 200 -\n",
            "127.0.0.1 - - [05/Apr/2022 16:26:33] \"\u001b[37mGET /static/css/style.css HTTP/1.1\u001b[0m\" 200 -\n",
            "127.0.0.1 - - [05/Apr/2022 16:26:33] \"\u001b[37mGET /static/bower_components/morrisjs/morris.css HTTP/1.1\u001b[0m\" 200 -\n",
            "127.0.0.1 - - [05/Apr/2022 16:26:33] \"\u001b[37mGET /static/bower_components/bootstrap/dist/js/bootstrap.min.js HTTP/1.1\u001b[0m\" 200 -\n",
            "127.0.0.1 - - [05/Apr/2022 16:26:33] \"\u001b[37mGET /static/bower_components/metisMenu/dist/metisMenu.min.js HTTP/1.1\u001b[0m\" 200 -\n",
            "127.0.0.1 - - [05/Apr/2022 16:26:33] \"\u001b[37mGET /static/js/jquery.nicescroll.js HTTP/1.1\u001b[0m\" 200 -\n",
            "127.0.0.1 - - [05/Apr/2022 16:26:33] \"\u001b[37mGET /static/bower_components/raphael/raphael-min.js HTTP/1.1\u001b[0m\" 200 -\n",
            "127.0.0.1 - - [05/Apr/2022 16:26:34] \"\u001b[37mGET /static/bower_components/morrisjs/morris.js HTTP/1.1\u001b[0m\" 200 -\n",
            "127.0.0.1 - - [05/Apr/2022 16:26:34] \"\u001b[37mGET /static/js/waves.js HTTP/1.1\u001b[0m\" 200 -\n",
            "127.0.0.1 - - [05/Apr/2022 16:26:34] \"\u001b[37mGET /static/js/myadmin.js HTTP/1.1\u001b[0m\" 200 -\n",
            "127.0.0.1 - - [05/Apr/2022 16:26:34] \"\u001b[37mGET /static/js/dashboard1.js HTTP/1.1\u001b[0m\" 200 -\n",
            "127.0.0.1 - - [05/Apr/2022 16:26:34] \"\u001b[37mGET /static/css/spinners.css HTTP/1.1\u001b[0m\" 200 -\n",
            "127.0.0.1 - - [05/Apr/2022 16:26:34] \"\u001b[37mGET /static/images/users/sonu.jpg HTTP/1.1\u001b[0m\" 200 -\n",
            "127.0.0.1 - - [05/Apr/2022 16:26:34] \"\u001b[37mGET /static/images/users/pawandeep.jpg HTTP/1.1\u001b[0m\" 200 -\n",
            "127.0.0.1 - - [05/Apr/2022 16:26:34] \"\u001b[37mGET /static/bower_components/bootstrap/dist/fonts/glyphicons-halflings-regular.woff2 HTTP/1.1\u001b[0m\" 200 -\n",
            "127.0.0.1 - - [05/Apr/2022 16:26:34] \"\u001b[37mGET /static/less/icons/themify-icons/fonts/themify.woff?-fvbane HTTP/1.1\u001b[0m\" 200 -\n",
            "127.0.0.1 - - [05/Apr/2022 16:26:34] \"\u001b[37mGET /static/images/favicon.png HTTP/1.1\u001b[0m\" 200 -\n",
            "127.0.0.1 - - [05/Apr/2022 16:26:36] \"\u001b[37mGET /profile HTTP/1.1\u001b[0m\" 200 -\n",
            "127.0.0.1 - - [05/Apr/2022 16:26:37] \"\u001b[33mGET /static/images/large/img1.jpg HTTP/1.1\u001b[0m\" 404 -\n",
            "127.0.0.1 - - [05/Apr/2022 16:26:37] \"\u001b[33mGET /favicon.ico HTTP/1.1\u001b[0m\" 404 -\n",
            "127.0.0.1 - - [05/Apr/2022 16:26:39] \"\u001b[37mGET /project HTTP/1.1\u001b[0m\" 200 -\n",
            "127.0.0.1 - - [05/Apr/2022 16:26:42] \"\u001b[37mGET /writing HTTP/1.1\u001b[0m\" 200 -\n",
            "127.0.0.1 - - [05/Apr/2022 16:26:44] \"\u001b[37mGET /chat HTTP/1.1\u001b[0m\" 200 -\n",
            "127.0.0.1 - - [05/Apr/2022 16:26:44] \"\u001b[37mGET /static/css/chat.css HTTP/1.1\u001b[0m\" 200 -\n",
            "127.0.0.1 - - [05/Apr/2022 16:26:46] \"\u001b[37mGET /feedback HTTP/1.1\u001b[0m\" 200 -\n",
            "127.0.0.1 - - [05/Apr/2022 16:26:47] \"\u001b[37mGET /static/css/feedback.css HTTP/1.1\u001b[0m\" 200 -\n",
            "127.0.0.1 - - [05/Apr/2022 16:26:48] \"\u001b[37mGET / HTTP/1.1\u001b[0m\" 200 -\n",
            "127.0.0.1 - - [05/Apr/2022 16:26:52] \"\u001b[37mGET / HTTP/1.1\u001b[0m\" 200 -\n",
            "127.0.0.1 - - [05/Apr/2022 16:26:54] \"\u001b[37mGET / HTTP/1.1\u001b[0m\" 200 -\n",
            "127.0.0.1 - - [05/Apr/2022 16:26:56] \"\u001b[37mGET /profile HTTP/1.1\u001b[0m\" 200 -\n",
            "127.0.0.1 - - [05/Apr/2022 16:26:56] \"\u001b[33mGET /static/images/large/img1.jpg HTTP/1.1\u001b[0m\" 404 -\n",
            "127.0.0.1 - - [05/Apr/2022 16:26:56] \"\u001b[33mGET /favicon.ico HTTP/1.1\u001b[0m\" 404 -\n",
            "127.0.0.1 - - [05/Apr/2022 16:26:57] \"\u001b[37mGET /project HTTP/1.1\u001b[0m\" 200 -\n",
            "127.0.0.1 - - [05/Apr/2022 16:26:59] \"\u001b[37mGET /writing HTTP/1.1\u001b[0m\" 200 -\n",
            "127.0.0.1 - - [05/Apr/2022 16:27:02] \"\u001b[37mGET /chat HTTP/1.1\u001b[0m\" 200 -\n",
            "127.0.0.1 - - [05/Apr/2022 16:27:03] \"\u001b[37mGET /writing HTTP/1.1\u001b[0m\" 200 -\n",
            "127.0.0.1 - - [05/Apr/2022 16:27:12] \"\u001b[37mGET /project HTTP/1.1\u001b[0m\" 200 -\n",
            "127.0.0.1 - - [05/Apr/2022 16:27:14] \"\u001b[37mGET /writing HTTP/1.1\u001b[0m\" 200 -\n",
            "127.0.0.1 - - [05/Apr/2022 16:27:16] \"\u001b[33mGET /templates/Introduction-Template.docx HTTP/1.1\u001b[0m\" 404 -\n",
            "127.0.0.1 - - [05/Apr/2022 16:27:17] \"\u001b[33mGET /favicon.ico HTTP/1.1\u001b[0m\" 404 -\n",
            "127.0.0.1 - - [05/Apr/2022 16:27:22] \"\u001b[37mGET /signin HTTP/1.1\u001b[0m\" 200 -\n",
            "127.0.0.1 - - [05/Apr/2022 16:27:25] \"\u001b[37mGET / HTTP/1.1\u001b[0m\" 200 -\n"
          ]
        }
      ],
      "source": [
        "app = Flask(__name__, template_folder='templates')\n",
        "bootstrap = Bootstrap(app)\n",
        "run_with_ngrok(app)\n",
        "\n",
        "@app.route('/')\n",
        "def index():\n",
        "  return render_template('dashboard.html')\n",
        "\n",
        "@app.route(\"/profile\")\n",
        "def profile():\n",
        "  return render_template('profile.html')\n",
        "\n",
        "@app.route(\"/project\")\n",
        "def project():\n",
        "  return render_template('project-planning.html')\n",
        "\n",
        "@app.route(\"/writing\")\n",
        "def writing():\n",
        "  return render_template('writing-the-dissertation.html')\n",
        "\n",
        "@app.route(\"/chat\")\n",
        "def chat():\n",
        "  return render_template('chat.html')\n",
        "\n",
        "@app.route(\"/feedback\")\n",
        "def feedback():\n",
        "  return render_template('feedback.html')\n",
        "\n",
        "@app.route(\"/signin\")\n",
        "def signin():\n",
        "  return render_template('sign-in.html')\n",
        "\n",
        "app.run()"
      ]
    }
  ],
  "metadata": {
    "colab": {
      "name": "Untitled0.ipynb",
      "provenance": [],
      "collapsed_sections": [],
      "authorship_tag": "ABX9TyPAVsdc4A9MX9uVnPfnkC0d",
      "include_colab_link": true
    },
    "kernelspec": {
      "display_name": "Python 3",
      "name": "python3"
    },
    "language_info": {
      "name": "python"
    }
  },
  "nbformat": 4,
  "nbformat_minor": 0
}